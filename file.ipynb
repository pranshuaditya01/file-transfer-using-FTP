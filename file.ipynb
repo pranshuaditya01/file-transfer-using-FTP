{
 "cells": [
  {
   "cell_type": "markdown",
   "source": [
    "# sender"
   ],
   "metadata": {}
  },
  {
   "cell_type": "code",
   "execution_count": null,
   "source": [
    "# This file is used for sending the file over socket\n",
    "import os\n",
    "import socket\n",
    "import time\n",
    "\n",
    "\n",
    "sock = socket.socket(socket.AF_INET, socket.SOCK_STREAM)\n",
    "sock.bind((socket.gethostname(), 22222))\n",
    "sock.listen(5)\n",
    "print(\"Host Name: \", sock.getsockname())\n",
    "\n",
    "# Accepting the connection.\n",
    "client, addr = sock.accept()\n",
    "\n",
    "# Getting file details.\n",
    "file_name = input(\"File Name:\")\n",
    "file_size = os.path.getsize(file_name)\n",
    "\n",
    "# Sending file_name and detail.\n",
    "client.send(file_name.encode())\n",
    "client.send(str(file_size).encode())\n",
    "\n",
    "# Opening file and sending data.\n",
    "with open(file_name, \"rb\") as file:\n",
    "    c = 0\n",
    "    # Starting the time capture.\n",
    "    start_time = time.time()\n",
    "\n",
    "    # Running loop while c != file_size.\n",
    "    while c <= file_size:\n",
    "        data = file.read(1024)\n",
    "        if not (data):\n",
    "            break\n",
    "        client.sendall(data)\n",
    "        c += len(data)\n",
    "\n",
    "    # Ending the time capture.\n",
    "    end_time = time.time()\n",
    "\n",
    "print(\"File Transfer Complete.Total time: \", end_time - start_time)\n",
    "# Cloasing the socket.\n",
    "sock.close()"
   ],
   "outputs": [
    {
     "output_type": "error",
     "ename": "gaierror",
     "evalue": "[Errno 8] nodename nor servname provided, or not known",
     "traceback": [
      "\u001b[0;31m---------------------------------------------------------------------------\u001b[0m",
      "\u001b[0;31mgaierror\u001b[0m                                  Traceback (most recent call last)",
      "\u001b[0;32m<ipython-input-1-dc02adff6313>\u001b[0m in \u001b[0;36m<module>\u001b[0;34m\u001b[0m\n\u001b[1;32m      6\u001b[0m \u001b[0;31m# Creating a socket.\u001b[0m\u001b[0;34m\u001b[0m\u001b[0;34m\u001b[0m\u001b[0;34m\u001b[0m\u001b[0m\n\u001b[1;32m      7\u001b[0m \u001b[0msock\u001b[0m \u001b[0;34m=\u001b[0m \u001b[0msocket\u001b[0m\u001b[0;34m.\u001b[0m\u001b[0msocket\u001b[0m\u001b[0;34m(\u001b[0m\u001b[0msocket\u001b[0m\u001b[0;34m.\u001b[0m\u001b[0mAF_INET\u001b[0m\u001b[0;34m,\u001b[0m \u001b[0msocket\u001b[0m\u001b[0;34m.\u001b[0m\u001b[0mSOCK_STREAM\u001b[0m\u001b[0;34m)\u001b[0m\u001b[0;34m\u001b[0m\u001b[0;34m\u001b[0m\u001b[0m\n\u001b[0;32m----> 8\u001b[0;31m \u001b[0msock\u001b[0m\u001b[0;34m.\u001b[0m\u001b[0mbind\u001b[0m\u001b[0;34m(\u001b[0m\u001b[0;34m(\u001b[0m\u001b[0msocket\u001b[0m\u001b[0;34m.\u001b[0m\u001b[0mgethostname\u001b[0m\u001b[0;34m(\u001b[0m\u001b[0;34m)\u001b[0m\u001b[0;34m,\u001b[0m \u001b[0;36m22222\u001b[0m\u001b[0;34m)\u001b[0m\u001b[0;34m)\u001b[0m\u001b[0;34m\u001b[0m\u001b[0;34m\u001b[0m\u001b[0m\n\u001b[0m\u001b[1;32m      9\u001b[0m \u001b[0msock\u001b[0m\u001b[0;34m.\u001b[0m\u001b[0mlisten\u001b[0m\u001b[0;34m(\u001b[0m\u001b[0;36m5\u001b[0m\u001b[0;34m)\u001b[0m\u001b[0;34m\u001b[0m\u001b[0;34m\u001b[0m\u001b[0m\n\u001b[1;32m     10\u001b[0m \u001b[0mprint\u001b[0m\u001b[0;34m(\u001b[0m\u001b[0;34m\"Host Name: \"\u001b[0m\u001b[0;34m,\u001b[0m \u001b[0msock\u001b[0m\u001b[0;34m.\u001b[0m\u001b[0mgetsockname\u001b[0m\u001b[0;34m(\u001b[0m\u001b[0;34m)\u001b[0m\u001b[0;34m)\u001b[0m\u001b[0;34m\u001b[0m\u001b[0;34m\u001b[0m\u001b[0m\n",
      "\u001b[0;31mgaierror\u001b[0m: [Errno 8] nodename nor servname provided, or not known"
     ]
    }
   ],
   "metadata": {}
  },
  {
   "cell_type": "markdown",
   "source": [
    "# reciever"
   ],
   "metadata": {}
  },
  {
   "cell_type": "code",
   "execution_count": 1,
   "source": [
    "# This file will be used for recieving files over socket connection.\n",
    "import os\n",
    "import socket\n",
    "import time\n",
    "\n",
    "host = input(\"Host Name: \")\n",
    "sock = socket.socket(socket.AF_INET, socket.SOCK_STREAM)\n",
    "\n",
    "# Trying to connect to socket.\n",
    "try:\n",
    "    sock.connect((host, 22222))\n",
    "    print(\"Connected Successfully\")\n",
    "except:\n",
    "    print(\"Unable to connect\")\n",
    "    exit(0)\n",
    "\n",
    "# Send file details.\n",
    "file_name = sock.recv(100).decode()\n",
    "file_size = sock.recv(100).decode()\n",
    "\n",
    "# Opening and reading file.\n",
    "with open(\"./rec/\" + file_name, \"wb\") as file:\n",
    "    c = 0\n",
    "    # Starting the time capture.\n",
    "    start_time = time.time()\n",
    "\n",
    "    # Running the loop while file is recieved.\n",
    "    while c <= int(file_size):\n",
    "        data = sock.recv(1024)\n",
    "        if not (data):\n",
    "            break\n",
    "        file.write(data)\n",
    "        c += len(data)\n",
    "\n",
    "    # Ending the time capture.\n",
    "    end_time = time.time()\n",
    "\n",
    "print(\"File transfer Complete.Total time: \", end_time - start_time)\n",
    "\n",
    "# Closing the socket.\n",
    "sock.close()"
   ],
   "outputs": [
    {
     "output_type": "stream",
     "name": "stdout",
     "text": [
      "Unable to connect\n"
     ]
    },
    {
     "output_type": "error",
     "ename": "OSError",
     "evalue": "[Errno 57] Socket is not connected",
     "traceback": [
      "\u001b[0;31m---------------------------------------------------------------------------\u001b[0m",
      "\u001b[0;31mOSError\u001b[0m                                   Traceback (most recent call last)",
      "\u001b[0;32m<ipython-input-1-1d7fafb2b4da>\u001b[0m in \u001b[0;36m<module>\u001b[0;34m\u001b[0m\n\u001b[1;32m     16\u001b[0m \u001b[0;34m\u001b[0m\u001b[0m\n\u001b[1;32m     17\u001b[0m \u001b[0;31m# Send file details.\u001b[0m\u001b[0;34m\u001b[0m\u001b[0;34m\u001b[0m\u001b[0;34m\u001b[0m\u001b[0m\n\u001b[0;32m---> 18\u001b[0;31m \u001b[0mfile_name\u001b[0m \u001b[0;34m=\u001b[0m \u001b[0msock\u001b[0m\u001b[0;34m.\u001b[0m\u001b[0mrecv\u001b[0m\u001b[0;34m(\u001b[0m\u001b[0;36m100\u001b[0m\u001b[0;34m)\u001b[0m\u001b[0;34m.\u001b[0m\u001b[0mdecode\u001b[0m\u001b[0;34m(\u001b[0m\u001b[0;34m)\u001b[0m\u001b[0;34m\u001b[0m\u001b[0;34m\u001b[0m\u001b[0m\n\u001b[0m\u001b[1;32m     19\u001b[0m \u001b[0mfile_size\u001b[0m \u001b[0;34m=\u001b[0m \u001b[0msock\u001b[0m\u001b[0;34m.\u001b[0m\u001b[0mrecv\u001b[0m\u001b[0;34m(\u001b[0m\u001b[0;36m100\u001b[0m\u001b[0;34m)\u001b[0m\u001b[0;34m.\u001b[0m\u001b[0mdecode\u001b[0m\u001b[0;34m(\u001b[0m\u001b[0;34m)\u001b[0m\u001b[0;34m\u001b[0m\u001b[0;34m\u001b[0m\u001b[0m\n\u001b[1;32m     20\u001b[0m \u001b[0;34m\u001b[0m\u001b[0m\n",
      "\u001b[0;31mOSError\u001b[0m: [Errno 57] Socket is not connected"
     ]
    }
   ],
   "metadata": {}
  }
 ],
 "metadata": {
  "orig_nbformat": 4,
  "language_info": {
   "name": "python",
   "version": "3.8.8",
   "mimetype": "text/x-python",
   "codemirror_mode": {
    "name": "ipython",
    "version": 3
   },
   "pygments_lexer": "ipython3",
   "nbconvert_exporter": "python",
   "file_extension": ".py"
  },
  "kernelspec": {
   "name": "python388jvsc74a57bd072cf09ff6277419b3c5367cf551a3852e719418da00d82238b53e28d4293b34f",
   "display_name": "Python 3.8.8 64-bit ('anaconda3': conda)",
   "language": "python"
  }
 },
 "nbformat": 4,
 "nbformat_minor": 2
}